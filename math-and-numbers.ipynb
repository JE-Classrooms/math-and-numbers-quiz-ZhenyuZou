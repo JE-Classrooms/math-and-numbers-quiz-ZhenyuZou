{
 "cells": [
  {
   "cell_type": "markdown",
   "metadata": {},
   "source": [
    "# Math and Numbers Quiz Example"
   ]
  },
  {
   "cell_type": "markdown",
   "metadata": {},
   "source": [
    "**Exercise 1:** Use the ```numpy``` functions to confirm the mathematical identity $log(ex)=x$, which should be true for any value of $x$."
   ]
  },
  {
   "cell_type": "code",
   "execution_count": 12,
   "metadata": {},
   "outputs": [
    {
     "name": "stdout",
     "output_type": "stream",
     "text": [
      "True\n"
     ]
    }
   ],
   "source": [
    "import numpy as np\n",
    "x=55\n",
    "result=np.log(np.e**x)\n",
    "print(result==x)"
   ]
  },
  {
   "cell_type": "markdown",
   "metadata": {},
   "source": [
    "**Exercise 2:** Search the NumPy documentation to find the function that computes square roots, and use it to compute a floating-point approximation of the golden ratio:\n",
    "\n",
    "$\\phi = \\frac{1 + \\sqrt{5}}{2}$ \n",
    "\n",
    "Hint: The result should be close to `1.618`."
   ]
  },
  {
   "cell_type": "code",
   "execution_count": 7,
   "metadata": {},
   "outputs": [
    {
     "name": "stdout",
     "output_type": "stream",
     "text": [
      "1.618033988749895\n"
     ]
    }
   ],
   "source": [
    "import numpy as np\n",
    "result=(1+5**0.5)/2\n",
    "print(result)"
   ]
  },
  {
   "cell_type": "markdown",
   "metadata": {},
   "source": [
    "**Exercise 3:** Calculate compound interest. If we start with a principal sum, $P$, and earn compounded interest, the total accumulated value, $V$, at the end of time $t$ is:\n",
    "\n",
    "$V=P\\left(1+{\\frac {r}{n}}\\right)^{nt}$\n",
    "\n",
    "where $r$ is the annual interest rate and $n$ is the compounding frequency.\n",
    "\n",
    "Calculate $V$ for the following case: you deposit \\$2,100 in a bank paying an annual interest rate of 3.4\\% compounded quarterly, compute the balance after 7 years."
   ]
  },
  {
   "cell_type": "code",
   "execution_count": 16,
   "metadata": {},
   "outputs": [
    {
     "name": "stdout",
     "output_type": "stream",
     "text": [
      "2663.392839450407\n"
     ]
    }
   ],
   "source": [
    "import numpy as np\n",
    "P=2100\n",
    "t=7\n",
    "r=0.034\n",
    "n=12\n",
    "V=P*(1+r/n)**(n*t)\n",
    "print(V)"
   ]
  }
 ],
 "metadata": {
  "kernelspec": {
   "display_name": "conda_amazonei_mxnet_p36",
   "language": "python",
   "name": "conda_amazonei_mxnet_p36"
  },
  "language_info": {
   "codemirror_mode": {
    "name": "ipython",
    "version": 3
   },
   "file_extension": ".py",
   "mimetype": "text/x-python",
   "name": "python",
   "nbconvert_exporter": "python",
   "pygments_lexer": "ipython3",
   "version": "3.6.13"
  },
  "vscode": {
   "interpreter": {
    "hash": "9fbb33e86ca55080a202fed700efde3fb4ffe3f46131e5b52201b9ba06ce5f72"
   }
  }
 },
 "nbformat": 4,
 "nbformat_minor": 4
}
